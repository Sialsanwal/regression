{
 "cells": [
  {
   "cell_type": "code",
   "execution_count": 1,
   "id": "04956390",
   "metadata": {},
   "outputs": [],
   "source": [
    "import numpy as np\n",
    "import pandas as pd\n",
    "import tensorflow as tf\n",
    "import matplotlib.pyplot as plt"
   ]
  },
  {
   "cell_type": "code",
   "execution_count": 2,
   "id": "0cb0e508",
   "metadata": {},
   "outputs": [],
   "source": [
    "from tensorflow.keras.models import Sequential\n",
    "from tensorflow.keras.layers import Dense \n",
    "from tensorflow.keras.optimizers import Adam, SGD"
   ]
  },
  {
   "cell_type": "code",
   "execution_count": 3,
   "id": "f237eff3",
   "metadata": {},
   "outputs": [],
   "source": [
    "df=pd.read_csv(\"weight-height.csv\")"
   ]
  },
  {
   "cell_type": "code",
   "execution_count": 4,
   "id": "eeb91d40",
   "metadata": {},
   "outputs": [
    {
     "data": {
      "text/html": [
       "<div>\n",
       "<style scoped>\n",
       "    .dataframe tbody tr th:only-of-type {\n",
       "        vertical-align: middle;\n",
       "    }\n",
       "\n",
       "    .dataframe tbody tr th {\n",
       "        vertical-align: top;\n",
       "    }\n",
       "\n",
       "    .dataframe thead th {\n",
       "        text-align: right;\n",
       "    }\n",
       "</style>\n",
       "<table border=\"1\" class=\"dataframe\">\n",
       "  <thead>\n",
       "    <tr style=\"text-align: right;\">\n",
       "      <th></th>\n",
       "      <th>Gender</th>\n",
       "      <th>Height</th>\n",
       "      <th>Weight</th>\n",
       "    </tr>\n",
       "  </thead>\n",
       "  <tbody>\n",
       "    <tr>\n",
       "      <th>0</th>\n",
       "      <td>Male</td>\n",
       "      <td>73.847017</td>\n",
       "      <td>241.893563</td>\n",
       "    </tr>\n",
       "    <tr>\n",
       "      <th>1</th>\n",
       "      <td>Male</td>\n",
       "      <td>68.781904</td>\n",
       "      <td>162.310473</td>\n",
       "    </tr>\n",
       "    <tr>\n",
       "      <th>2</th>\n",
       "      <td>Male</td>\n",
       "      <td>74.110105</td>\n",
       "      <td>212.740856</td>\n",
       "    </tr>\n",
       "    <tr>\n",
       "      <th>3</th>\n",
       "      <td>Male</td>\n",
       "      <td>71.730978</td>\n",
       "      <td>220.042470</td>\n",
       "    </tr>\n",
       "    <tr>\n",
       "      <th>4</th>\n",
       "      <td>Male</td>\n",
       "      <td>69.881796</td>\n",
       "      <td>206.349801</td>\n",
       "    </tr>\n",
       "  </tbody>\n",
       "</table>\n",
       "</div>"
      ],
      "text/plain": [
       "  Gender     Height      Weight\n",
       "0   Male  73.847017  241.893563\n",
       "1   Male  68.781904  162.310473\n",
       "2   Male  74.110105  212.740856\n",
       "3   Male  71.730978  220.042470\n",
       "4   Male  69.881796  206.349801"
      ]
     },
     "execution_count": 4,
     "metadata": {},
     "output_type": "execute_result"
    }
   ],
   "source": [
    "df.head()"
   ]
  },
  {
   "cell_type": "code",
   "execution_count": 5,
   "id": "c58eea87",
   "metadata": {},
   "outputs": [
    {
     "data": {
      "text/html": [
       "<div>\n",
       "<style scoped>\n",
       "    .dataframe tbody tr th:only-of-type {\n",
       "        vertical-align: middle;\n",
       "    }\n",
       "\n",
       "    .dataframe tbody tr th {\n",
       "        vertical-align: top;\n",
       "    }\n",
       "\n",
       "    .dataframe thead th {\n",
       "        text-align: right;\n",
       "    }\n",
       "</style>\n",
       "<table border=\"1\" class=\"dataframe\">\n",
       "  <thead>\n",
       "    <tr style=\"text-align: right;\">\n",
       "      <th></th>\n",
       "      <th>Height</th>\n",
       "      <th>Weight</th>\n",
       "    </tr>\n",
       "  </thead>\n",
       "  <tbody>\n",
       "    <tr>\n",
       "      <th>count</th>\n",
       "      <td>10000.000000</td>\n",
       "      <td>10000.000000</td>\n",
       "    </tr>\n",
       "    <tr>\n",
       "      <th>mean</th>\n",
       "      <td>66.367560</td>\n",
       "      <td>161.440357</td>\n",
       "    </tr>\n",
       "    <tr>\n",
       "      <th>std</th>\n",
       "      <td>3.847528</td>\n",
       "      <td>32.108439</td>\n",
       "    </tr>\n",
       "    <tr>\n",
       "      <th>min</th>\n",
       "      <td>54.263133</td>\n",
       "      <td>64.700127</td>\n",
       "    </tr>\n",
       "    <tr>\n",
       "      <th>25%</th>\n",
       "      <td>63.505620</td>\n",
       "      <td>135.818051</td>\n",
       "    </tr>\n",
       "    <tr>\n",
       "      <th>50%</th>\n",
       "      <td>66.318070</td>\n",
       "      <td>161.212928</td>\n",
       "    </tr>\n",
       "    <tr>\n",
       "      <th>75%</th>\n",
       "      <td>69.174262</td>\n",
       "      <td>187.169525</td>\n",
       "    </tr>\n",
       "    <tr>\n",
       "      <th>max</th>\n",
       "      <td>78.998742</td>\n",
       "      <td>269.989699</td>\n",
       "    </tr>\n",
       "  </tbody>\n",
       "</table>\n",
       "</div>"
      ],
      "text/plain": [
       "             Height        Weight\n",
       "count  10000.000000  10000.000000\n",
       "mean      66.367560    161.440357\n",
       "std        3.847528     32.108439\n",
       "min       54.263133     64.700127\n",
       "25%       63.505620    135.818051\n",
       "50%       66.318070    161.212928\n",
       "75%       69.174262    187.169525\n",
       "max       78.998742    269.989699"
      ]
     },
     "execution_count": 5,
     "metadata": {},
     "output_type": "execute_result"
    }
   ],
   "source": [
    "df.describe()"
   ]
  },
  {
   "cell_type": "code",
   "execution_count": 6,
   "id": "1ce70c9d",
   "metadata": {},
   "outputs": [],
   "source": [
    "X=df[[\"Height\"]].values\n",
    "y_true=df[[\"Weight\"]].values"
   ]
  },
  {
   "cell_type": "code",
   "execution_count": 7,
   "id": "e884b455",
   "metadata": {},
   "outputs": [
    {
     "data": {
      "text/plain": [
       "array([[73.84701702],\n",
       "       [68.78190405],\n",
       "       [74.11010539],\n",
       "       ...,\n",
       "       [63.86799221],\n",
       "       [69.03424313],\n",
       "       [61.94424588]])"
      ]
     },
     "execution_count": 7,
     "metadata": {},
     "output_type": "execute_result"
    }
   ],
   "source": [
    "X"
   ]
  },
  {
   "cell_type": "code",
   "execution_count": 8,
   "id": "84789003",
   "metadata": {},
   "outputs": [
    {
     "data": {
      "text/plain": [
       "array([[241.89356318],\n",
       "       [162.31047252],\n",
       "       [212.74085556],\n",
       "       ...,\n",
       "       [128.47531878],\n",
       "       [163.85246135],\n",
       "       [113.64910268]])"
      ]
     },
     "execution_count": 8,
     "metadata": {},
     "output_type": "execute_result"
    }
   ],
   "source": [
    "y_true"
   ]
  },
  {
   "cell_type": "code",
   "execution_count": 9,
   "id": "04f864d8",
   "metadata": {},
   "outputs": [],
   "source": [
    "model=tf.keras.Sequential()\n",
    "model.add(Dense(1, input_shape=(1,)))"
   ]
  },
  {
   "cell_type": "code",
   "execution_count": 10,
   "id": "c466d9ae",
   "metadata": {},
   "outputs": [
    {
     "name": "stdout",
     "output_type": "stream",
     "text": [
      "Model: \"sequential\"\n",
      "_________________________________________________________________\n",
      "Layer (type)                 Output Shape              Param #   \n",
      "=================================================================\n",
      "dense (Dense)                (None, 1)                 2         \n",
      "=================================================================\n",
      "Total params: 2\n",
      "Trainable params: 2\n",
      "Non-trainable params: 0\n",
      "_________________________________________________________________\n"
     ]
    }
   ],
   "source": [
    "model.summary()"
   ]
  },
  {
   "cell_type": "code",
   "execution_count": 11,
   "id": "e9239404",
   "metadata": {},
   "outputs": [],
   "source": [
    "model.compile(Adam(lr=0.8), 'mean_squared_error')"
   ]
  },
  {
   "cell_type": "code",
   "execution_count": 12,
   "id": "9d8233c0",
   "metadata": {},
   "outputs": [
    {
     "name": "stdout",
     "output_type": "stream",
     "text": [
      "Epoch 1/35\n",
      "313/313 [==============================] - ETA: 0s - loss: 2086.24 - 1s 2ms/step - loss: 2029.7201\n",
      "Epoch 2/35\n",
      "313/313 [==============================] - 0s 2ms/step - loss: 586.0554\n",
      "Epoch 3/35\n",
      "313/313 [==============================] - 0s 2ms/step - loss: 535.1307\n",
      "Epoch 4/35\n",
      "313/313 [==============================] - 0s 2ms/step - loss: 475.7010\n",
      "Epoch 5/35\n",
      "313/313 [==============================] - 0s 2ms/step - loss: 451.0909\n",
      "Epoch 6/35\n",
      "313/313 [==============================] - 0s 2ms/step - loss: 379.1563\n",
      "Epoch 7/35\n",
      "313/313 [==============================] - 0s 2ms/step - loss: 361.5629\n",
      "Epoch 8/35\n",
      "313/313 [==============================] - 0s 2ms/step - loss: 332.4788\n",
      "Epoch 9/35\n",
      "313/313 [==============================] - 0s 2ms/step - loss: 292.0435\n",
      "Epoch 10/35\n",
      "313/313 [==============================] - 0s 2ms/step - loss: 271.3006\n",
      "Epoch 11/35\n",
      "313/313 [==============================] - 1s 2ms/step - loss: 242.7547\n",
      "Epoch 12/35\n",
      "313/313 [==============================] - 1s 2ms/step - loss: 241.9766\n",
      "Epoch 13/35\n",
      "313/313 [==============================] - 1s 2ms/step - loss: 221.5914\n",
      "Epoch 14/35\n",
      "313/313 [==============================] - 1s 2ms/step - loss: 205.8047\n",
      "Epoch 15/35\n",
      "313/313 [==============================] - 0s 2ms/step - loss: 201.0260\n",
      "Epoch 16/35\n",
      "313/313 [==============================] - 0s 2ms/step - loss: 207.7799\n",
      "Epoch 17/35\n",
      "313/313 [==============================] - 0s 2ms/step - loss: 186.0687\n",
      "Epoch 18/35\n",
      "313/313 [==============================] - 1s 2ms/step - loss: 190.6365\n",
      "Epoch 19/35\n",
      "313/313 [==============================] - 0s 2ms/step - loss: 177.8180\n",
      "Epoch 20/35\n",
      "313/313 [==============================] - 1s 2ms/step - loss: 179.2653\n",
      "Epoch 21/35\n",
      "313/313 [==============================] - 0s 2ms/step - loss: 177.3568\n",
      "Epoch 22/35\n",
      "313/313 [==============================] - 0s 2ms/step - loss: 189.4555\n",
      "Epoch 23/35\n",
      "313/313 [==============================] - 1s 2ms/step - loss: 187.8697\n",
      "Epoch 24/35\n",
      "313/313 [==============================] - 0s 2ms/step - loss: 205.7753\n",
      "Epoch 25/35\n",
      "313/313 [==============================] - 0s 2ms/step - loss: 168.1639\n",
      "Epoch 26/35\n",
      "313/313 [==============================] - 0s 2ms/step - loss: 190.0274\n",
      "Epoch 27/35\n",
      "313/313 [==============================] - 0s 2ms/step - loss: 169.5443\n",
      "Epoch 28/35\n",
      "313/313 [==============================] - 0s 2ms/step - loss: 172.0214\n",
      "Epoch 29/35\n",
      "313/313 [==============================] - 1s 2ms/step - loss: 166.7179\n",
      "Epoch 30/35\n",
      "313/313 [==============================] - 1s 2ms/step - loss: 171.1942\n",
      "Epoch 31/35\n",
      "313/313 [==============================] - 1s 2ms/step - loss: 181.7183\n",
      "Epoch 32/35\n",
      "313/313 [==============================] - 1s 2ms/step - loss: 173.9394\n",
      "Epoch 33/35\n",
      "313/313 [==============================] - 0s 2ms/step - loss: 178.1972\n",
      "Epoch 34/35\n",
      "313/313 [==============================] - 0s 2ms/step - loss: 186.9538\n",
      "Epoch 35/35\n",
      "313/313 [==============================] - 0s 2ms/step - loss: 169.0584\n"
     ]
    },
    {
     "data": {
      "text/plain": [
       "<tensorflow.python.keras.callbacks.History at 0x1b7d4f25400>"
      ]
     },
     "execution_count": 12,
     "metadata": {},
     "output_type": "execute_result"
    }
   ],
   "source": [
    "model.fit(X,y_true,epochs=35)"
   ]
  },
  {
   "cell_type": "code",
   "execution_count": 13,
   "id": "b1ebe6a6",
   "metadata": {},
   "outputs": [],
   "source": [
    "y_pred=model.predict(X)"
   ]
  },
  {
   "cell_type": "code",
   "execution_count": 15,
   "id": "29e39f24",
   "metadata": {},
   "outputs": [
    {
     "data": {
      "text/plain": [
       "[<matplotlib.lines.Line2D at 0x1b7d9760e20>]"
      ]
     },
     "execution_count": 15,
     "metadata": {},
     "output_type": "execute_result"
    },
    {
     "data": {
      "image/png": "[encoded data removed]",
      "text/plain": [
       "<Figure size 432x288 with 1 Axes>"
      ]
     },
     "metadata": {
      "needs_background": "light"
     },
     "output_type": "display_data"
    }
   ],
   "source": [
    "df.plot(kind=\"scatter\"\n",
    "       ,x=\"Height\",\n",
    "       y=\"Weight\", title=\"Weight and Height in adults\")\n",
    "plt.plot(X,y_pred, color=\"red\", linewidth=5)"
   ]
  },
  {
   "cell_type": "code",
   "execution_count": null,
   "id": "5d495341",
   "metadata": {},
   "outputs": [],
   "source": []
  }
 ],
 "metadata": {
  "kernelspec": {
   "display_name": "Python 3",
   "language": "python",
   "name": "python3"
  },
  "language_info": {
   "codemirror_mode": {
    "name": "ipython",
    "version": 3
   },
   "file_extension": ".py",
   "mimetype": "text/x-python",
   "name": "python",
   "nbconvert_exporter": "python",
   "pygments_lexer": "ipython3",
   "version": "3.8.5"
  }
 },
 "nbformat": 4,
 "nbformat_minor": 5
}
